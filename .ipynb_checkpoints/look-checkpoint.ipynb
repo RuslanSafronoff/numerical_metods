{
 "cells": [
  {
   "cell_type": "code",
   "execution_count": 2,
   "metadata": {},
   "outputs": [
    {
     "name": "stdout",
     "output_type": "stream",
     "text": [
      "[]\n"
     ]
    },
    {
     "data": {
      "image/png": "[encoded data removed]",
      "text/plain": [
       "<Figure size 1440x720 with 3 Axes>"
      ]
     },
     "metadata": {
      "needs_background": "light"
     },
     "output_type": "display_data"
    }
   ],
   "source": [
    "import sys  # sys нужен для передачи argv в QApplication\n",
    "import os\n",
    "import numpy as np\n",
    "from os.path import expanduser\n",
    "from PyQt5 import QtWidgets, QtCore\n",
    "import design\n",
    "import design_p\n",
    "import matplotlib.pyplot as plt\n",
    "\n",
    "class Param(QtWidgets.QDialog, design_p.Ui_Dialog):\n",
    "    def __init__(self):\n",
    "        # Это здесь нужно для доступа к переменным, методам\n",
    "        # и т.д. в файле design.py\n",
    "        super().__init__()\n",
    "        self.setupUi(self)  # Это нужно для инициализации нашего дизайна\n",
    "\n",
    "class Main(QtWidgets.QMainWindow, design.Ui_MainWindow):\n",
    "    def __init__(self):\n",
    "        # Это здесь нужно для доступа к переменным, методам\n",
    "        # и т.д. в файле design.py\n",
    "        super().__init__()\n",
    "        self.files = []\n",
    "        self.Param = None\n",
    "        self.setupUi(self)  # Это нужно для инициализации нашего дизайна\n",
    "        self.setup_signals()\n",
    "        self.rho_a = 0\n",
    "        self.rho_b = 0\n",
    "        self.s_k = 0\n",
    "        self.s_m = 0\n",
    "        self.s_n = 0\n",
    "        self.z_p = 0\n",
    "        self.z_q = 0\n",
    "        self.z_r = 0\n",
    "\n",
    "    def setup_signals(self):\n",
    "        # Connect button to openSisterWin\n",
    "        self.pushButton_rho_g.clicked.connect(self.browse_folder)\n",
    "        self.pushButton_s_g.clicked.connect(self.browse_folder)\n",
    "        self.pushButton_z_g.clicked.connect(self.browse_folder)\n",
    "        self.pushButton_rho_p.clicked.connect(self.on_Button_clicked)\n",
    "        self.pushButton_s_p.clicked.connect(self.on_Button_clicked)\n",
    "        self.pushButton_z_p.clicked.connect(self.on_Button_clicked)\n",
    "\n",
    "    def on_Button_clicked(self, checked=None):\n",
    "        if checked == None: return\n",
    "        dialog = QtWidgets.QDialog()\n",
    "        dialog.ui = Param()\n",
    "        dialog.ui.setupUi(dialog)\n",
    "        # dialog.setAttribute(QtCore.Qt.WA_DeleteOnClose)\n",
    "        dialog.exec_()\n",
    "        self.rho_a = dialog.ui.doubleSpinBox_rho_a.value()\n",
    "        # print(self.rho_a)\n",
    "        self.rho_b = dialog.ui.doubleSpinBox_rho_b.value()\n",
    "        self.s_k = dialog.ui.doubleSpinBox_s_k.value()\n",
    "        self.s_m = dialog.ui.doubleSpinBox_s_m.value()\n",
    "        self.s_n = dialog.ui.doubleSpinBox_s_n.value()\n",
    "        self.z_p = dialog.ui.doubleSpinBox_z_p.value()\n",
    "        self.z_q = dialog.ui.doubleSpinBox_z_q.value()\n",
    "        self.z_r = dialog.ui.doubleSpinBox_z_r.value()\n",
    "\n",
    "\n",
    "    def openSisterWin(self):\n",
    "        if not self:\n",
    "            self.Param = Param()\n",
    "        if self.Param.isVisible():\n",
    "            print('Hiding')\n",
    "            self.Param.hide()\n",
    "            # hide or close, it's your choice\n",
    "            # self.sisterWin.close()\n",
    "        else:\n",
    "            print('Showing')\n",
    "            self.Param.show()\n",
    "\n",
    "    def browse_folder(self):\n",
    "        home = expanduser(\"~\")\n",
    "        directory = QtWidgets.QFileDialog.getOpenFileName(self, directory=home, filter=\"Array files (*.csv)\")\n",
    "        self.files.append(directory[0])\n",
    "\n",
    "\n",
    "def main():\n",
    "    app = QtWidgets.QApplication(sys.argv)  # Новый экземпляр QApplication\n",
    "    window = Main()  # Создаём объект класса ExampleApp\n",
    "    window.show()  # Показываем окно\n",
    "    app.exec_()  # и запускаем приложение\n",
    "    a, b, k, m, n, p, q, r, files = window.rho_a, window.rho_b, window.s_k, window.s_m, window.s_n, window.z_p, window.z_q, window.z_r, window.files\n",
    "    f, (ax1, ax2, ax3) = plt.subplots(1, 3, figsize=(20, 10))\n",
    "    sp = np.linspace(-10, 10, 100)\n",
    "    rho = a * sp * (b - sp)\n",
    "    s = k * sp + m * np.sin(n*sp)\n",
    "    z = p * sp + q * np.cos(r*sp)\n",
    "#     print(a, b, k, m, n, p, q, r, sep=' ')\n",
    "#     print(rho, s, z)\n",
    "    ax1.set_title(r'$\\rho\\omega = a \\omega (b - \\omega)$', fontsize=18)\n",
    "    ax2.set_title(r'$S(t) = kt + m \\sin (nt)$', fontsize=18)\n",
    "    ax3.set_title(r'$z(t) = pt + q \\cos (rt)$', fontsize=18)\n",
    "    ax1.grid()\n",
    "    ax2.grid()\n",
    "    ax3.grid()\n",
    "    ax1.plot(sp, rho)\n",
    "    ax2.plot(sp, s)\n",
    "    ax3.plot(sp, z)\n",
    "    print(window.files)\n",
    "    \n",
    "\n",
    "if __name__ == '__main__':  # Если мы запускаем файл напрямую, а не импортируем\n",
    "    main()  # то запускаем функцию main()\n"
   ]
  },
  {
   "cell_type": "code",
   "execution_count": null,
   "metadata": {},
   "outputs": [],
   "source": []
  }
 ],
 "metadata": {
  "kernelspec": {
   "display_name": "Python 3",
   "language": "python",
   "name": "python3"
  },
  "language_info": {
   "codemirror_mode": {
    "name": "ipython",
    "version": 3
   },
   "file_extension": ".py",
   "mimetype": "text/x-python",
   "name": "python",
   "nbconvert_exporter": "python",
   "pygments_lexer": "ipython3",
   "version": "3.6.6"
  }
 },
 "nbformat": 4,
 "nbformat_minor": 2
}
